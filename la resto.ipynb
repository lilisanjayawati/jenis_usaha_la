{
 "cells": [
  {
   "cell_type": "markdown",
   "metadata": {},
   "source": [
    "# Peluang Usaha Terbaik Untuk Tempat Makan di LA\n",
    "\n",
    "\n",
    "Daftar Isi :\n",
    "- Pendahuluan\n",
    "- Pra-pemrosesan Data\n",
    "    - Memuat Library\n",
    "    - Memuat Data\n",
    "    - Memisahkan Nama Jalan dari Alamat\n",
    "- Analisis Data\n",
    "     - Proporsi Berbagai Jenis Usaha\n",
    "     - Proporsi Usaha Waralaba dan Non-Waralaba\n",
    "     - Jenis Usaha Waralaba\n",
    "     - Jumlah Rata-rata Kursi\n",
    "     - 10 Nama Jalan Teratas Berdasarkan Jumlah Restoran\n",
    "     - Jalan Dengan 1 Jenis Usaha Saja\n",
    "- Kesimpulan\n",
    "- Presentasi\n",
    "\n",
    "\n",
    "# Pendahuluan\n",
    "Saya telah memutuskan untuk membuka sebuah kafe kecil di Los Angeles. Kafe ini bisa dibilang cukup unik, karena saya \"memperkerjakan\" robot sebagai pelayan atau pramusaji. Proyek ini memang menjanjikan, namun membutuhkan modal yang besar. Oleh karena itu, saya dan para mitra memutuskan untuk menarik minat investor. Mereka tertarik dengan kondisi pasar saat ini—namun, kita perlu mempertahankan kesuksesan saat daya tarik sang robot mulai pudar.\n",
    "\n",
    "Para mitra pun meminta saya untuk mempersiapkan sejumlah riset pasar. Berikut data yang saya miliki data dari sumber terbuka (open source) terkait jenis-jenis usaha tempat makan di LA."
   ]
  },
  {
   "cell_type": "markdown",
   "metadata": {},
   "source": [
    "## Pra-pemrosesan Data\n",
    "### Memuat Library"
   ]
  },
  {
   "cell_type": "code",
   "execution_count": 1,
   "metadata": {},
   "outputs": [],
   "source": [
    "# memuat library yang dibutuhkan\n",
    "import pandas as pd\n",
    "import matplotlib.pyplot as plt\n",
    "import seaborn as sns\n",
    "import plotly.express as px\n",
    "import re\n",
    "import warnings\n",
    "warnings.filterwarnings('ignore')"
   ]
  },
  {
   "cell_type": "markdown",
   "metadata": {},
   "source": [
    "### Memuat Data"
   ]
  },
  {
   "cell_type": "code",
   "execution_count": 2,
   "metadata": {},
   "outputs": [],
   "source": [
    "# memuat data\n",
    "rest = pd.read_csv('/datasets/rest_data_us.csv')"
   ]
  },
  {
   "cell_type": "code",
   "execution_count": 3,
   "metadata": {},
   "outputs": [
    {
     "data": {
      "text/html": [
       "<div>\n",
       "<style scoped>\n",
       "    .dataframe tbody tr th:only-of-type {\n",
       "        vertical-align: middle;\n",
       "    }\n",
       "\n",
       "    .dataframe tbody tr th {\n",
       "        vertical-align: top;\n",
       "    }\n",
       "\n",
       "    .dataframe thead th {\n",
       "        text-align: right;\n",
       "    }\n",
       "</style>\n",
       "<table border=\"1\" class=\"dataframe\">\n",
       "  <thead>\n",
       "    <tr style=\"text-align: right;\">\n",
       "      <th></th>\n",
       "      <th>id</th>\n",
       "      <th>object_name</th>\n",
       "      <th>address</th>\n",
       "      <th>chain</th>\n",
       "      <th>object_type</th>\n",
       "      <th>number</th>\n",
       "    </tr>\n",
       "  </thead>\n",
       "  <tbody>\n",
       "    <tr>\n",
       "      <th>0</th>\n",
       "      <td>11786</td>\n",
       "      <td>HABITAT COFFEE SHOP</td>\n",
       "      <td>3708 N EAGLE ROCK BLVD</td>\n",
       "      <td>False</td>\n",
       "      <td>Cafe</td>\n",
       "      <td>26</td>\n",
       "    </tr>\n",
       "    <tr>\n",
       "      <th>1</th>\n",
       "      <td>11787</td>\n",
       "      <td>REILLY'S</td>\n",
       "      <td>100 WORLD WAY # 120</td>\n",
       "      <td>False</td>\n",
       "      <td>Restaurant</td>\n",
       "      <td>9</td>\n",
       "    </tr>\n",
       "    <tr>\n",
       "      <th>2</th>\n",
       "      <td>11788</td>\n",
       "      <td>STREET CHURROS</td>\n",
       "      <td>6801 HOLLYWOOD BLVD # 253</td>\n",
       "      <td>False</td>\n",
       "      <td>Fast Food</td>\n",
       "      <td>20</td>\n",
       "    </tr>\n",
       "    <tr>\n",
       "      <th>3</th>\n",
       "      <td>11789</td>\n",
       "      <td>TRINITI ECHO PARK</td>\n",
       "      <td>1814 W SUNSET BLVD</td>\n",
       "      <td>False</td>\n",
       "      <td>Restaurant</td>\n",
       "      <td>22</td>\n",
       "    </tr>\n",
       "    <tr>\n",
       "      <th>4</th>\n",
       "      <td>11790</td>\n",
       "      <td>POLLEN</td>\n",
       "      <td>2100 ECHO PARK AVE</td>\n",
       "      <td>False</td>\n",
       "      <td>Restaurant</td>\n",
       "      <td>20</td>\n",
       "    </tr>\n",
       "  </tbody>\n",
       "</table>\n",
       "</div>"
      ],
      "text/plain": [
       "      id          object_name                    address  chain object_type  \\\n",
       "0  11786  HABITAT COFFEE SHOP     3708 N EAGLE ROCK BLVD  False        Cafe   \n",
       "1  11787             REILLY'S        100 WORLD WAY # 120  False  Restaurant   \n",
       "2  11788       STREET CHURROS  6801 HOLLYWOOD BLVD # 253  False   Fast Food   \n",
       "3  11789    TRINITI ECHO PARK         1814 W SUNSET BLVD  False  Restaurant   \n",
       "4  11790               POLLEN         2100 ECHO PARK AVE  False  Restaurant   \n",
       "\n",
       "   number  \n",
       "0      26  \n",
       "1       9  \n",
       "2      20  \n",
       "3      22  \n",
       "4      20  "
      ]
     },
     "execution_count": 3,
     "metadata": {},
     "output_type": "execute_result"
    }
   ],
   "source": [
    "# menampilkan data\n",
    "rest.head()"
   ]
  },
  {
   "cell_type": "code",
   "execution_count": 4,
   "metadata": {},
   "outputs": [
    {
     "name": "stdout",
     "output_type": "stream",
     "text": [
      "<class 'pandas.core.frame.DataFrame'>\n",
      "RangeIndex: 9651 entries, 0 to 9650\n",
      "Data columns (total 6 columns):\n",
      " #   Column       Non-Null Count  Dtype \n",
      "---  ------       --------------  ----- \n",
      " 0   id           9651 non-null   int64 \n",
      " 1   object_name  9651 non-null   object\n",
      " 2   address      9651 non-null   object\n",
      " 3   chain        9648 non-null   object\n",
      " 4   object_type  9651 non-null   object\n",
      " 5   number       9651 non-null   int64 \n",
      "dtypes: int64(2), object(4)\n",
      "memory usage: 452.5+ KB\n"
     ]
    }
   ],
   "source": [
    "# menampilkan informasi umum\n",
    "rest.info()"
   ]
  },
  {
   "cell_type": "code",
   "execution_count": 5,
   "metadata": {},
   "outputs": [
    {
     "data": {
      "text/plain": [
       "id             0\n",
       "object_name    0\n",
       "address        0\n",
       "chain          3\n",
       "object_type    0\n",
       "number         0\n",
       "dtype: int64"
      ]
     },
     "execution_count": 5,
     "metadata": {},
     "output_type": "execute_result"
    }
   ],
   "source": [
    "# mengecek missing value\n",
    "rest.isnull().sum()"
   ]
  },
  {
   "cell_type": "code",
   "execution_count": 6,
   "metadata": {},
   "outputs": [
    {
     "data": {
      "text/html": [
       "<div>\n",
       "<style scoped>\n",
       "    .dataframe tbody tr th:only-of-type {\n",
       "        vertical-align: middle;\n",
       "    }\n",
       "\n",
       "    .dataframe tbody tr th {\n",
       "        vertical-align: top;\n",
       "    }\n",
       "\n",
       "    .dataframe thead th {\n",
       "        text-align: right;\n",
       "    }\n",
       "</style>\n",
       "<table border=\"1\" class=\"dataframe\">\n",
       "  <thead>\n",
       "    <tr style=\"text-align: right;\">\n",
       "      <th></th>\n",
       "      <th>id</th>\n",
       "      <th>object_name</th>\n",
       "      <th>address</th>\n",
       "      <th>chain</th>\n",
       "      <th>object_type</th>\n",
       "      <th>number</th>\n",
       "    </tr>\n",
       "  </thead>\n",
       "  <tbody>\n",
       "    <tr>\n",
       "      <th>7408</th>\n",
       "      <td>19194</td>\n",
       "      <td>TAQUERIA LOS 3 CARNALES</td>\n",
       "      <td>5000 E WHITTIER BLVD</td>\n",
       "      <td>NaN</td>\n",
       "      <td>Restaurant</td>\n",
       "      <td>14</td>\n",
       "    </tr>\n",
       "    <tr>\n",
       "      <th>7523</th>\n",
       "      <td>19309</td>\n",
       "      <td>JAMMIN JIMMY'S PIZZA</td>\n",
       "      <td>1641 FIRESTONE BLVD</td>\n",
       "      <td>NaN</td>\n",
       "      <td>Pizza</td>\n",
       "      <td>1</td>\n",
       "    </tr>\n",
       "    <tr>\n",
       "      <th>8648</th>\n",
       "      <td>20434</td>\n",
       "      <td>THE LEXINGTON THEATER</td>\n",
       "      <td>129 E 3RD ST</td>\n",
       "      <td>NaN</td>\n",
       "      <td>Restaurant</td>\n",
       "      <td>35</td>\n",
       "    </tr>\n",
       "  </tbody>\n",
       "</table>\n",
       "</div>"
      ],
      "text/plain": [
       "         id              object_name               address chain object_type  \\\n",
       "7408  19194  TAQUERIA LOS 3 CARNALES  5000 E WHITTIER BLVD   NaN  Restaurant   \n",
       "7523  19309     JAMMIN JIMMY'S PIZZA   1641 FIRESTONE BLVD   NaN       Pizza   \n",
       "8648  20434    THE LEXINGTON THEATER          129 E 3RD ST   NaN  Restaurant   \n",
       "\n",
       "      number  \n",
       "7408      14  \n",
       "7523       1  \n",
       "8648      35  "
      ]
     },
     "execution_count": 6,
     "metadata": {},
     "output_type": "execute_result"
    }
   ],
   "source": [
    "# menampilkan data yang memiliki missing value\n",
    "rest[rest['chain'].isnull()]"
   ]
  },
  {
   "cell_type": "code",
   "execution_count": 7,
   "metadata": {},
   "outputs": [],
   "source": [
    "rest = rest.dropna()"
   ]
  },
  {
   "cell_type": "code",
   "execution_count": 8,
   "metadata": {},
   "outputs": [
    {
     "data": {
      "text/plain": [
       "id             0\n",
       "object_name    0\n",
       "address        0\n",
       "chain          0\n",
       "object_type    0\n",
       "number         0\n",
       "dtype: int64"
      ]
     },
     "execution_count": 8,
     "metadata": {},
     "output_type": "execute_result"
    }
   ],
   "source": [
    "# mengecek missing value\n",
    "rest.isnull().sum()"
   ]
  },
  {
   "cell_type": "code",
   "execution_count": 9,
   "metadata": {},
   "outputs": [
    {
     "data": {
      "text/plain": [
       "0"
      ]
     },
     "execution_count": 9,
     "metadata": {},
     "output_type": "execute_result"
    }
   ],
   "source": [
    "# mengecek duplicate value\n",
    "rest.duplicated().sum()"
   ]
  },
  {
   "cell_type": "markdown",
   "metadata": {},
   "source": [
    "### Memisahkan Nama Jalan dari Alamat\n",
    "Kita perlu memisahkan nama jalan dari kolom alamat untuk menganalisis jumlah restoran yang ada pada setiap jalan. Untuk itu kita membuat fungsi dibawah ini."
   ]
  },
  {
   "cell_type": "code",
   "execution_count": 10,
   "metadata": {},
   "outputs": [],
   "source": [
    "# Membuat fungsi untuk mengambil nama jalan dari kolom address\n",
    "def get_street_name(txt):\n",
    "  txt = pd.Series(txt.split(' '), name='text')\n",
    "\n",
    "  start=0\n",
    "  end=len(txt)-1\n",
    "\n",
    "  for i in range(len(txt)):\n",
    "    if i == 0:\n",
    "      if txt[i].isnumeric():\n",
    "        start = 1\n",
    "    if i == 1:\n",
    "      if txt[i] == '1/2':\n",
    "        start = 2\n",
    "      elif txt[i] == '1/4':\n",
    "        start = 2\n",
    "      elif txt[i] == '3/4':\n",
    "        start = 2\n",
    "      elif txt.isin(['ST', 'AVE', 'WAY', 'BLVD', 'AVENUE'])[i]:\n",
    "        end=i\n",
    "        return ' '.join(txt.loc[start:end])  \n",
    "      elif i == end:\n",
    "          return ' '.join(txt.loc[start:end])\n",
    "    elif i > 1:\n",
    "      if txt.isin(['ST', 'AVE', 'WAY', 'BLVD', 'AVENUE'])[i]:\n",
    "        end=i\n",
    "        return ' '.join(txt.loc[start:end])\n",
    "      elif txt.isin(['STE', 'UNIT', 'unit', 'FL', 'A260', 'E13'])[i]:\n",
    "        end=i-1\n",
    "        return ' '.join(txt.loc[start:end])\n",
    "      elif txt.str.contains('#')[i]:\n",
    "        end=i-1\n",
    "        return ' '.join(txt.loc[start:end])\n",
    "      elif txt[i].isnumeric():\n",
    "        end=i-1\n",
    "        return ' '.join(txt.loc[start:end])\n",
    "      elif txt.str.contains('-')[i]:\n",
    "        end=i-1\n",
    "        return ' '.join(txt.loc[start:end])\n",
    "      elif i == end:\n",
    "          return ' '.join(txt.loc[start:end])"
   ]
  },
  {
   "cell_type": "markdown",
   "metadata": {},
   "source": [
    "Fungsi ini akan mengabaikan angka pada bagian depan jalan dan nomor unit yang dimulai dengan tanda '#'. Jadi kita hanya akan mengambil nama jalannya saja."
   ]
  },
  {
   "cell_type": "code",
   "execution_count": 11,
   "metadata": {},
   "outputs": [],
   "source": [
    "# mengaplikasikan fungsi pada kolom\n",
    "rest['street_name'] = rest['address'].apply(get_street_name)"
   ]
  },
  {
   "cell_type": "code",
   "execution_count": 12,
   "metadata": {},
   "outputs": [
    {
     "data": {
      "text/html": [
       "<div>\n",
       "<style scoped>\n",
       "    .dataframe tbody tr th:only-of-type {\n",
       "        vertical-align: middle;\n",
       "    }\n",
       "\n",
       "    .dataframe tbody tr th {\n",
       "        vertical-align: top;\n",
       "    }\n",
       "\n",
       "    .dataframe thead th {\n",
       "        text-align: right;\n",
       "    }\n",
       "</style>\n",
       "<table border=\"1\" class=\"dataframe\">\n",
       "  <thead>\n",
       "    <tr style=\"text-align: right;\">\n",
       "      <th></th>\n",
       "      <th>id</th>\n",
       "      <th>object_name</th>\n",
       "      <th>address</th>\n",
       "      <th>chain</th>\n",
       "      <th>object_type</th>\n",
       "      <th>number</th>\n",
       "      <th>street_name</th>\n",
       "    </tr>\n",
       "  </thead>\n",
       "  <tbody>\n",
       "    <tr>\n",
       "      <th>0</th>\n",
       "      <td>11786</td>\n",
       "      <td>HABITAT COFFEE SHOP</td>\n",
       "      <td>3708 N EAGLE ROCK BLVD</td>\n",
       "      <td>False</td>\n",
       "      <td>Cafe</td>\n",
       "      <td>26</td>\n",
       "      <td>N EAGLE ROCK BLVD</td>\n",
       "    </tr>\n",
       "    <tr>\n",
       "      <th>1</th>\n",
       "      <td>11787</td>\n",
       "      <td>REILLY'S</td>\n",
       "      <td>100 WORLD WAY # 120</td>\n",
       "      <td>False</td>\n",
       "      <td>Restaurant</td>\n",
       "      <td>9</td>\n",
       "      <td>WORLD WAY</td>\n",
       "    </tr>\n",
       "    <tr>\n",
       "      <th>2</th>\n",
       "      <td>11788</td>\n",
       "      <td>STREET CHURROS</td>\n",
       "      <td>6801 HOLLYWOOD BLVD # 253</td>\n",
       "      <td>False</td>\n",
       "      <td>Fast Food</td>\n",
       "      <td>20</td>\n",
       "      <td>HOLLYWOOD BLVD</td>\n",
       "    </tr>\n",
       "    <tr>\n",
       "      <th>3</th>\n",
       "      <td>11789</td>\n",
       "      <td>TRINITI ECHO PARK</td>\n",
       "      <td>1814 W SUNSET BLVD</td>\n",
       "      <td>False</td>\n",
       "      <td>Restaurant</td>\n",
       "      <td>22</td>\n",
       "      <td>W SUNSET BLVD</td>\n",
       "    </tr>\n",
       "    <tr>\n",
       "      <th>4</th>\n",
       "      <td>11790</td>\n",
       "      <td>POLLEN</td>\n",
       "      <td>2100 ECHO PARK AVE</td>\n",
       "      <td>False</td>\n",
       "      <td>Restaurant</td>\n",
       "      <td>20</td>\n",
       "      <td>ECHO PARK AVE</td>\n",
       "    </tr>\n",
       "    <tr>\n",
       "      <th>...</th>\n",
       "      <td>...</td>\n",
       "      <td>...</td>\n",
       "      <td>...</td>\n",
       "      <td>...</td>\n",
       "      <td>...</td>\n",
       "      <td>...</td>\n",
       "      <td>...</td>\n",
       "    </tr>\n",
       "    <tr>\n",
       "      <th>9646</th>\n",
       "      <td>21432</td>\n",
       "      <td>HALL OF JUSTICE</td>\n",
       "      <td>217 W TEMPLE AVE</td>\n",
       "      <td>False</td>\n",
       "      <td>Restaurant</td>\n",
       "      <td>122</td>\n",
       "      <td>W TEMPLE AVE</td>\n",
       "    </tr>\n",
       "    <tr>\n",
       "      <th>9647</th>\n",
       "      <td>21433</td>\n",
       "      <td>FIN-MELROSE</td>\n",
       "      <td>5750 MELROSE AVE</td>\n",
       "      <td>False</td>\n",
       "      <td>Restaurant</td>\n",
       "      <td>93</td>\n",
       "      <td>MELROSE AVE</td>\n",
       "    </tr>\n",
       "    <tr>\n",
       "      <th>9648</th>\n",
       "      <td>21434</td>\n",
       "      <td>JUICY WINGZ</td>\n",
       "      <td>6741 HOLLYWOOD BLVD</td>\n",
       "      <td>True</td>\n",
       "      <td>Fast Food</td>\n",
       "      <td>15</td>\n",
       "      <td>HOLLYWOOD BLVD</td>\n",
       "    </tr>\n",
       "    <tr>\n",
       "      <th>9649</th>\n",
       "      <td>21435</td>\n",
       "      <td>MEDIDATE COFFEE</td>\n",
       "      <td>548 S SPRING ST STE 100</td>\n",
       "      <td>False</td>\n",
       "      <td>Cafe</td>\n",
       "      <td>6</td>\n",
       "      <td>S SPRING ST</td>\n",
       "    </tr>\n",
       "    <tr>\n",
       "      <th>9650</th>\n",
       "      <td>21436</td>\n",
       "      <td>CAFE SPROUTS</td>\n",
       "      <td>1300 S SAN PEDRO ST STE 111</td>\n",
       "      <td>True</td>\n",
       "      <td>Restaurant</td>\n",
       "      <td>19</td>\n",
       "      <td>S SAN PEDRO ST</td>\n",
       "    </tr>\n",
       "  </tbody>\n",
       "</table>\n",
       "<p>9648 rows × 7 columns</p>\n",
       "</div>"
      ],
      "text/plain": [
       "         id          object_name                      address  chain  \\\n",
       "0     11786  HABITAT COFFEE SHOP       3708 N EAGLE ROCK BLVD  False   \n",
       "1     11787             REILLY'S          100 WORLD WAY # 120  False   \n",
       "2     11788       STREET CHURROS    6801 HOLLYWOOD BLVD # 253  False   \n",
       "3     11789    TRINITI ECHO PARK           1814 W SUNSET BLVD  False   \n",
       "4     11790               POLLEN           2100 ECHO PARK AVE  False   \n",
       "...     ...                  ...                          ...    ...   \n",
       "9646  21432      HALL OF JUSTICE             217 W TEMPLE AVE  False   \n",
       "9647  21433          FIN-MELROSE             5750 MELROSE AVE  False   \n",
       "9648  21434          JUICY WINGZ          6741 HOLLYWOOD BLVD   True   \n",
       "9649  21435      MEDIDATE COFFEE      548 S SPRING ST STE 100  False   \n",
       "9650  21436         CAFE SPROUTS  1300 S SAN PEDRO ST STE 111   True   \n",
       "\n",
       "     object_type  number        street_name  \n",
       "0           Cafe      26  N EAGLE ROCK BLVD  \n",
       "1     Restaurant       9          WORLD WAY  \n",
       "2      Fast Food      20     HOLLYWOOD BLVD  \n",
       "3     Restaurant      22      W SUNSET BLVD  \n",
       "4     Restaurant      20      ECHO PARK AVE  \n",
       "...          ...     ...                ...  \n",
       "9646  Restaurant     122       W TEMPLE AVE  \n",
       "9647  Restaurant      93        MELROSE AVE  \n",
       "9648   Fast Food      15     HOLLYWOOD BLVD  \n",
       "9649        Cafe       6        S SPRING ST  \n",
       "9650  Restaurant      19     S SAN PEDRO ST  \n",
       "\n",
       "[9648 rows x 7 columns]"
      ]
     },
     "execution_count": 12,
     "metadata": {},
     "output_type": "execute_result"
    }
   ],
   "source": [
    "# menampilkan data terbaru\n",
    "rest"
   ]
  },
  {
   "cell_type": "markdown",
   "metadata": {},
   "source": [
    "Sekarang kita telah memiliki kolom street_name. Kita bisa melanjutkan ke tahap analisis data."
   ]
  },
  {
   "cell_type": "code",
   "execution_count": 13,
   "metadata": {},
   "outputs": [
    {
     "data": {
      "image/png": "[encoded data removed]",
      "text/plain": [
       "<Figure size 864x504 with 1 Axes>"
      ]
     },
     "metadata": {
      "needs_background": "light"
     },
     "output_type": "display_data"
    }
   ],
   "source": [
    "# membuat grafik berdasarkan jenis usaha\n",
    "plt.figure(figsize=(12, 7))\n",
    "plt.title('Restaurant Based on Seats')\n",
    "ax = sns.barplot(x='object_type', y='number', data=rest)"
   ]
  },
  {
   "cell_type": "markdown",
   "metadata": {},
   "source": [
    "Berdasarkan jumlah kursi, tipe restaurant dan bar memiliki jumlah kursi terbanyak. Hal ini tentunya lumrah karena banyak orang yang datang untuk makan siang dan makan malam di restoran, dan biasanya ada juga pengunjung yang datang diluar jam makan. Hal demikian juga serupa pada bar, biasanya bar ramai pada saat menjelang malam. Biasanya pengunjung yang datang mampir seusai jam kerja."
   ]
  },
  {
   "cell_type": "markdown",
   "metadata": {},
   "source": [
    "### Proporsi Usaha Waralaba dan Non-waralaba\n",
    "Investigate the proportions of chain and nonchain establishments. Plot a graph. "
   ]
  },
  {
   "cell_type": "code",
   "execution_count": 14,
   "metadata": {},
   "outputs": [
    {
     "data": {
      "image/png": "[encoded data removed]",
      "text/plain": [
       "<Figure size 864x504 with 1 Axes>"
      ]
     },
     "metadata": {
      "needs_background": "light"
     },
     "output_type": "display_data"
    }
   ],
   "source": [
    "# membuat grafik jenis usaha waralaba dan non-waralaba\n",
    "plt.figure(figsize=(12, 7))\n",
    "plt.title('Restaurant Based on Chain')\n",
    "ax = sns.barplot(x='object_type',y='chain', data=rest)"
   ]
  },
  {
   "cell_type": "markdown",
   "metadata": {},
   "source": [
    "Dari grafik diatas, type usaha berbasis waralaba bakery menempati urutan pertama. Menilik dari halaman situs https://pos.toasttab.com/blog/on-the-line/how-much-do-bakeries-make#:~:text=However%2C%20bakeries%20have%20great%20profit,picture%20of%20your%20sales%20potential :\n",
    "- Tipe usaha bakery memiliki peluang keuntungan yang bagus karena modal yang dikeluarkan lebih sedikit dibandingkan usaha waralaba restoran dan dengan jumlah pekerjaan/pegawai yang lebih sedikit juga.\n",
    "- Rata-rata bakery shop di US menghasilkan profit sebesar 3 miliar dolar jika digabungkan, dan untuk bakery shop kecil dan menengah menghasilkan antara 325.000 hingga 450.000 dolar.\n",
    "\n",
    "Di urutan kedua, ada jenis usaha cafe dan menyusul dibawahnya dengan selisih yang tidak jauh ada jenis usaha fast food. Restoran dan bar berada di peringkat 2 terbawah.\n",
    "Menilik dari halaman situs berikut https://home.binwise.com/blog/restaurant-profit-margin#:~:text=Are%20Restaurants%20Profitable%3F,restaurant%20to%20turn%20a%20profit :\n",
    "- Restoran memang menguntungkan namun memiliki low profit margins, butuh setidaknya sekitar 2 tahun untuk sebuah restoran baru dapat menghasilkan profit.\n",
    "- Profit restoran tidak luput dipengaruhi oleh lokasi, harga yang bersaing, dan biaya hidup yang dimiliki oleh para pengunjung.\n",
    "\n",
    "Hal demikian juga diterapkan pada jenis usaha bar."
   ]
  },
  {
   "cell_type": "markdown",
   "metadata": {},
   "source": [
    "### Jenis Usaha Waralaba\n",
    "Bisa dikatakan kelima jenis usaha yang sedang kita analisis umumnya adalah waralaba. Namun tidak menutup kemungkinan ada sebagian dari tiap jenis usaha tersebut yang bukan merupakan waralaba. Tipe restoran, fast food dan pizza sering memiliki lebih dari 1 outlet dan dapat ditemukan di berbagai tempat."
   ]
  },
  {
   "cell_type": "markdown",
   "metadata": {},
   "source": [
    "### Jumlah Rata-rata Kursi Untuk Setiap Jenis Usaha"
   ]
  },
  {
   "cell_type": "code",
   "execution_count": 15,
   "metadata": {},
   "outputs": [
    {
     "data": {
      "text/html": [
       "<div>\n",
       "<style scoped>\n",
       "    .dataframe tbody tr th:only-of-type {\n",
       "        vertical-align: middle;\n",
       "    }\n",
       "\n",
       "    .dataframe tbody tr th {\n",
       "        vertical-align: top;\n",
       "    }\n",
       "\n",
       "    .dataframe thead th {\n",
       "        text-align: right;\n",
       "    }\n",
       "</style>\n",
       "<table border=\"1\" class=\"dataframe\">\n",
       "  <thead>\n",
       "    <tr style=\"text-align: right;\">\n",
       "      <th></th>\n",
       "      <th>object_type</th>\n",
       "      <th>chain</th>\n",
       "      <th>seat_total</th>\n",
       "      <th>seat_total_mean</th>\n",
       "    </tr>\n",
       "  </thead>\n",
       "  <tbody>\n",
       "    <tr>\n",
       "      <th>0</th>\n",
       "      <td>Bakery</td>\n",
       "      <td>True</td>\n",
       "      <td>6162</td>\n",
       "      <td>21.773852</td>\n",
       "    </tr>\n",
       "    <tr>\n",
       "      <th>1</th>\n",
       "      <td>Bar</td>\n",
       "      <td>False</td>\n",
       "      <td>9972</td>\n",
       "      <td>46.381395</td>\n",
       "    </tr>\n",
       "    <tr>\n",
       "      <th>2</th>\n",
       "      <td>Bar</td>\n",
       "      <td>True</td>\n",
       "      <td>3100</td>\n",
       "      <td>40.259740</td>\n",
       "    </tr>\n",
       "    <tr>\n",
       "      <th>3</th>\n",
       "      <td>Cafe</td>\n",
       "      <td>False</td>\n",
       "      <td>3981</td>\n",
       "      <td>23.556213</td>\n",
       "    </tr>\n",
       "    <tr>\n",
       "      <th>4</th>\n",
       "      <td>Cafe</td>\n",
       "      <td>True</td>\n",
       "      <td>6894</td>\n",
       "      <td>25.917293</td>\n",
       "    </tr>\n",
       "    <tr>\n",
       "      <th>5</th>\n",
       "      <td>Fast Food</td>\n",
       "      <td>False</td>\n",
       "      <td>10895</td>\n",
       "      <td>23.633406</td>\n",
       "    </tr>\n",
       "    <tr>\n",
       "      <th>6</th>\n",
       "      <td>Fast Food</td>\n",
       "      <td>True</td>\n",
       "      <td>23044</td>\n",
       "      <td>38.089256</td>\n",
       "    </tr>\n",
       "    <tr>\n",
       "      <th>7</th>\n",
       "      <td>Pizza</td>\n",
       "      <td>False</td>\n",
       "      <td>5200</td>\n",
       "      <td>31.325301</td>\n",
       "    </tr>\n",
       "    <tr>\n",
       "      <th>8</th>\n",
       "      <td>Pizza</td>\n",
       "      <td>True</td>\n",
       "      <td>3906</td>\n",
       "      <td>25.529412</td>\n",
       "    </tr>\n",
       "    <tr>\n",
       "      <th>9</th>\n",
       "      <td>Restaurant</td>\n",
       "      <td>False</td>\n",
       "      <td>245688</td>\n",
       "      <td>49.523886</td>\n",
       "    </tr>\n",
       "    <tr>\n",
       "      <th>10</th>\n",
       "      <td>Restaurant</td>\n",
       "      <td>True</td>\n",
       "      <td>102810</td>\n",
       "      <td>44.856021</td>\n",
       "    </tr>\n",
       "  </tbody>\n",
       "</table>\n",
       "</div>"
      ],
      "text/plain": [
       "   object_type  chain  seat_total  seat_total_mean\n",
       "0       Bakery   True        6162        21.773852\n",
       "1          Bar  False        9972        46.381395\n",
       "2          Bar   True        3100        40.259740\n",
       "3         Cafe  False        3981        23.556213\n",
       "4         Cafe   True        6894        25.917293\n",
       "5    Fast Food  False       10895        23.633406\n",
       "6    Fast Food   True       23044        38.089256\n",
       "7        Pizza  False        5200        31.325301\n",
       "8        Pizza   True        3906        25.529412\n",
       "9   Restaurant  False      245688        49.523886\n",
       "10  Restaurant   True      102810        44.856021"
      ]
     },
     "execution_count": 15,
     "metadata": {},
     "output_type": "execute_result"
    }
   ],
   "source": [
    "seat_total = rest.pivot_table(index=['object_type','chain'], values='number', aggfunc=['sum','mean'])\n",
    "seat_total.columns = ['seat_total','seat_total_mean']\n",
    "seat_total.reset_index()"
   ]
  },
  {
   "cell_type": "code",
   "execution_count": 16,
   "metadata": {},
   "outputs": [
    {
     "data": {
      "text/plain": [
       "<AxesSubplot:ylabel='object_type,chain'>"
      ]
     },
     "execution_count": 16,
     "metadata": {},
     "output_type": "execute_result"
    },
    {
     "data": {
      "image/png": "[encoded data removed]",
      "text/plain": [
       "<Figure size 720x360 with 1 Axes>"
      ]
     },
     "metadata": {
      "needs_background": "light"
     },
     "output_type": "display_data"
    }
   ],
   "source": [
    "seat_total.plot(kind='barh', figsize=(10,5))"
   ]
  },
  {
   "cell_type": "markdown",
   "metadata": {},
   "source": [
    "Usaha bakery dipastikan adalah jenis waralaba. Dan kelima jenis usaha lainnya masing-masing terbagi menjadi usaha waralaba dan non-waralaba. Tipe usaha waralaba memiliki jumlah kursi yang lebih sedikit dibanding non-waralaba."
   ]
  },
  {
   "cell_type": "code",
   "execution_count": 17,
   "metadata": {},
   "outputs": [
    {
     "data": {
      "text/plain": [
       "<AxesSubplot:ylabel='object_type,chain'>"
      ]
     },
     "execution_count": 17,
     "metadata": {},
     "output_type": "execute_result"
    },
    {
     "data": {
      "image/png": "[encoded data removed]",
      "text/plain": [
       "<Figure size 720x360 with 1 Axes>"
      ]
     },
     "metadata": {
      "needs_background": "light"
     },
     "output_type": "display_data"
    }
   ],
   "source": [
    "seat_total['seat_total_mean'].plot(kind='barh',figsize=(10,5))"
   ]
  },
  {
   "cell_type": "markdown",
   "metadata": {},
   "source": [
    "Secara rata-rata, jenis usaha yang memiliki kursi terbanyak adalah restoran, hal ini tentunya wajar karena umumnya banyak pengunjung yang memilih makan langsung di tempat. Selanjutnya ada jenis usaha bar, ini karena pengunjung banyak menghabiskan waktu di bar menikmati minuman langsung disana, jarang terdengar ada yang take away minuman di bar bukan?"
   ]
  },
  {
   "cell_type": "markdown",
   "metadata": {},
   "source": [
    "### 10 Nama Jalan Teratas Berdasarkan Jumlah Usaha"
   ]
  },
  {
   "cell_type": "code",
   "execution_count": 18,
   "metadata": {},
   "outputs": [
    {
     "data": {
      "text/html": [
       "<div>\n",
       "<style scoped>\n",
       "    .dataframe tbody tr th:only-of-type {\n",
       "        vertical-align: middle;\n",
       "    }\n",
       "\n",
       "    .dataframe tbody tr th {\n",
       "        vertical-align: top;\n",
       "    }\n",
       "\n",
       "    .dataframe thead th {\n",
       "        text-align: right;\n",
       "    }\n",
       "</style>\n",
       "<table border=\"1\" class=\"dataframe\">\n",
       "  <thead>\n",
       "    <tr style=\"text-align: right;\">\n",
       "      <th></th>\n",
       "      <th>street_name</th>\n",
       "      <th>object_type</th>\n",
       "      <th>object_count</th>\n",
       "      <th>seats_total</th>\n",
       "    </tr>\n",
       "  </thead>\n",
       "  <tbody>\n",
       "    <tr>\n",
       "      <th>0</th>\n",
       "      <td>WILSHIRE BLVD</td>\n",
       "      <td>Restaurant</td>\n",
       "      <td>384</td>\n",
       "      <td>20087</td>\n",
       "    </tr>\n",
       "    <tr>\n",
       "      <th>1</th>\n",
       "      <td>W SUNSET BLVD</td>\n",
       "      <td>Restaurant</td>\n",
       "      <td>368</td>\n",
       "      <td>17945</td>\n",
       "    </tr>\n",
       "    <tr>\n",
       "      <th>2</th>\n",
       "      <td>W PICO BLVD</td>\n",
       "      <td>Restaurant</td>\n",
       "      <td>342</td>\n",
       "      <td>13535</td>\n",
       "    </tr>\n",
       "    <tr>\n",
       "      <th>3</th>\n",
       "      <td>S WESTERN AVE</td>\n",
       "      <td>Restaurant</td>\n",
       "      <td>277</td>\n",
       "      <td>11351</td>\n",
       "    </tr>\n",
       "    <tr>\n",
       "      <th>4</th>\n",
       "      <td>SANTA MONICA BLVD</td>\n",
       "      <td>Restaurant</td>\n",
       "      <td>262</td>\n",
       "      <td>9164</td>\n",
       "    </tr>\n",
       "    <tr>\n",
       "      <th>5</th>\n",
       "      <td>HOLLYWOOD BLVD</td>\n",
       "      <td>Restaurant</td>\n",
       "      <td>241</td>\n",
       "      <td>13703</td>\n",
       "    </tr>\n",
       "    <tr>\n",
       "      <th>6</th>\n",
       "      <td>W OLYMPIC BLVD</td>\n",
       "      <td>Restaurant</td>\n",
       "      <td>234</td>\n",
       "      <td>12079</td>\n",
       "    </tr>\n",
       "    <tr>\n",
       "      <th>7</th>\n",
       "      <td>W 3RD ST</td>\n",
       "      <td>Restaurant</td>\n",
       "      <td>231</td>\n",
       "      <td>9050</td>\n",
       "    </tr>\n",
       "    <tr>\n",
       "      <th>8</th>\n",
       "      <td>S FIGUEROA ST</td>\n",
       "      <td>Restaurant</td>\n",
       "      <td>228</td>\n",
       "      <td>11181</td>\n",
       "    </tr>\n",
       "    <tr>\n",
       "      <th>9</th>\n",
       "      <td>W 6TH ST</td>\n",
       "      <td>Restaurant</td>\n",
       "      <td>213</td>\n",
       "      <td>8543</td>\n",
       "    </tr>\n",
       "  </tbody>\n",
       "</table>\n",
       "</div>"
      ],
      "text/plain": [
       "         street_name object_type  object_count  seats_total\n",
       "0      WILSHIRE BLVD  Restaurant           384        20087\n",
       "1      W SUNSET BLVD  Restaurant           368        17945\n",
       "2        W PICO BLVD  Restaurant           342        13535\n",
       "3      S WESTERN AVE  Restaurant           277        11351\n",
       "4  SANTA MONICA BLVD  Restaurant           262         9164\n",
       "5     HOLLYWOOD BLVD  Restaurant           241        13703\n",
       "6     W OLYMPIC BLVD  Restaurant           234        12079\n",
       "7           W 3RD ST  Restaurant           231         9050\n",
       "8      S FIGUEROA ST  Restaurant           228        11181\n",
       "9           W 6TH ST  Restaurant           213         8543"
      ]
     },
     "execution_count": 18,
     "metadata": {},
     "output_type": "execute_result"
    }
   ],
   "source": [
    "# menghitung 10 nama jalan teratas dengan jumlah usaha terbanyak dan distribusi kursi\n",
    "type_count = rest.groupby('street_name').agg({'object_type' : ['max','count'], 'number':'sum'})\n",
    "type_count.columns = ['object_type','object_count','seats_total']\n",
    "top_street = type_count.sort_values(by='object_count',ascending=False).reset_index().head(10)\n",
    "top_street"
   ]
  },
  {
   "cell_type": "markdown",
   "metadata": {},
   "source": [
    "- 10 jalan teratas memiliki satu kesamaan yaitu tipe usahanya adalah restoran. Tampaknya peluang restoran di daerah diatas menjanjikan sehingga jumlahnya bisa mencapai hingga ratusan gerai di setiap tempatnya. 3 urutan teratas memiliki jumlah restoran diatas 300 gerai bahkan hanpir 400 gerai."
   ]
  },
  {
   "cell_type": "code",
   "execution_count": 19,
   "metadata": {},
   "outputs": [
    {
     "data": {
      "image/png": "[encoded data removed]",
      "text/plain": [
       "<Figure size 1800x720 with 1 Axes>"
      ]
     },
     "metadata": {
      "needs_background": "light"
     },
     "output_type": "display_data"
    }
   ],
   "source": [
    "# menampilkan grafik top 10 jalan dengan usaha terbanyak\n",
    "plt.figure(figsize=(25, 10))\n",
    "plt.title('TOP 10 Street Based By Number of Restaurants')\n",
    "tx = sns.barplot(x='street_name',y='object_count', data=top_street)"
   ]
  },
  {
   "cell_type": "markdown",
   "metadata": {},
   "source": [
    "- Jalan yang memiliki jumlah restoran paling banyak adalah \"WILLSHIRE BLVD\" yang mencapai 384 gerai restoran. Menyusul di urutan kedua dengan selisih tidak jauh, ada jalan \"W SUNSET BLVD\" dengan jumlah restoran sebanyak 368. Selanjutnya ada \"W PICO BLVD\" yang ditempati 342 unit restoran.\n",
    "- Dari urutan ke-6 hingga ke-10 jumlahnya menurun dan memiliki selisih tipis satu sama lain. Mungkin lokasi jalan-jalan tersebut agak jauh dari pusat kota maupun perkantoran dan perumahan. "
   ]
  },
  {
   "cell_type": "markdown",
   "metadata": {},
   "source": [
    "<div class=\"alert alert-success\">\n",
    "<b>Adipta's comment v.1</b> <a class=\"tocSkip\"></a>\n",
    "\n",
    "Bagus, semua berjalan lancar.\n",
    "\n",
    "</div>"
   ]
  },
  {
   "cell_type": "code",
   "execution_count": 20,
   "metadata": {},
   "outputs": [],
   "source": [
    "# memfilter data untuk melihat distribusi kursi\n",
    "wilshire = rest[(rest['street_name']=='WILSHIRE BLVD')]"
   ]
  },
  {
   "cell_type": "code",
   "execution_count": 21,
   "metadata": {
    "scrolled": false
   },
   "outputs": [
    {
     "data": {
      "text/html": [
       "<div>\n",
       "<style scoped>\n",
       "    .dataframe tbody tr th:only-of-type {\n",
       "        vertical-align: middle;\n",
       "    }\n",
       "\n",
       "    .dataframe tbody tr th {\n",
       "        vertical-align: top;\n",
       "    }\n",
       "\n",
       "    .dataframe thead th {\n",
       "        text-align: right;\n",
       "    }\n",
       "</style>\n",
       "<table border=\"1\" class=\"dataframe\">\n",
       "  <thead>\n",
       "    <tr style=\"text-align: right;\">\n",
       "      <th></th>\n",
       "      <th>id</th>\n",
       "      <th>object_name</th>\n",
       "      <th>address</th>\n",
       "      <th>chain</th>\n",
       "      <th>object_type</th>\n",
       "      <th>number</th>\n",
       "      <th>street_name</th>\n",
       "    </tr>\n",
       "  </thead>\n",
       "  <tbody>\n",
       "    <tr>\n",
       "      <th>16</th>\n",
       "      <td>11802</td>\n",
       "      <td>HMS BOUNTY</td>\n",
       "      <td>3357 WILSHIRE BLVD</td>\n",
       "      <td>False</td>\n",
       "      <td>Restaurant</td>\n",
       "      <td>147</td>\n",
       "      <td>WILSHIRE BLVD</td>\n",
       "    </tr>\n",
       "    <tr>\n",
       "      <th>22</th>\n",
       "      <td>11808</td>\n",
       "      <td>CAMY'S GRILL</td>\n",
       "      <td>3339 WILSHIRE BLVD</td>\n",
       "      <td>False</td>\n",
       "      <td>Restaurant</td>\n",
       "      <td>39</td>\n",
       "      <td>WILSHIRE BLVD</td>\n",
       "    </tr>\n",
       "    <tr>\n",
       "      <th>132</th>\n",
       "      <td>11918</td>\n",
       "      <td>CORAL FISH</td>\n",
       "      <td>6357 WILSHIRE BLVD</td>\n",
       "      <td>False</td>\n",
       "      <td>Restaurant</td>\n",
       "      <td>7</td>\n",
       "      <td>WILSHIRE BLVD</td>\n",
       "    </tr>\n",
       "    <tr>\n",
       "      <th>172</th>\n",
       "      <td>11958</td>\n",
       "      <td>YOSHINOYA #1147</td>\n",
       "      <td>3959 WILSHIRE BLVD STE A3-A5</td>\n",
       "      <td>True</td>\n",
       "      <td>Restaurant</td>\n",
       "      <td>35</td>\n",
       "      <td>WILSHIRE BLVD</td>\n",
       "    </tr>\n",
       "    <tr>\n",
       "      <th>182</th>\n",
       "      <td>11968</td>\n",
       "      <td>SUBWAY #1763</td>\n",
       "      <td>3959 WILSHIRE BLVD STE B-7</td>\n",
       "      <td>True</td>\n",
       "      <td>Fast Food</td>\n",
       "      <td>17</td>\n",
       "      <td>WILSHIRE BLVD</td>\n",
       "    </tr>\n",
       "    <tr>\n",
       "      <th>...</th>\n",
       "      <td>...</td>\n",
       "      <td>...</td>\n",
       "      <td>...</td>\n",
       "      <td>...</td>\n",
       "      <td>...</td>\n",
       "      <td>...</td>\n",
       "      <td>...</td>\n",
       "    </tr>\n",
       "    <tr>\n",
       "      <th>9463</th>\n",
       "      <td>21249</td>\n",
       "      <td>TWIST BAKE SHOP</td>\n",
       "      <td>4357 WILSHIRE BLVD</td>\n",
       "      <td>False</td>\n",
       "      <td>Restaurant</td>\n",
       "      <td>44</td>\n",
       "      <td>WILSHIRE BLVD</td>\n",
       "    </tr>\n",
       "    <tr>\n",
       "      <th>9500</th>\n",
       "      <td>21286</td>\n",
       "      <td>ONE CAFE</td>\n",
       "      <td>3250 WILSHIRE BLVD # 101A</td>\n",
       "      <td>True</td>\n",
       "      <td>Restaurant</td>\n",
       "      <td>8</td>\n",
       "      <td>WILSHIRE BLVD</td>\n",
       "    </tr>\n",
       "    <tr>\n",
       "      <th>9532</th>\n",
       "      <td>21318</td>\n",
       "      <td>ENERGY LIFE CAFE</td>\n",
       "      <td>5670 WILSHIRE BLVD # 160</td>\n",
       "      <td>False</td>\n",
       "      <td>Restaurant</td>\n",
       "      <td>44</td>\n",
       "      <td>WILSHIRE BLVD</td>\n",
       "    </tr>\n",
       "    <tr>\n",
       "      <th>9579</th>\n",
       "      <td>21365</td>\n",
       "      <td>THE FAMILY CAFE</td>\n",
       "      <td>12121 WILSHIRE BLVD # 110</td>\n",
       "      <td>False</td>\n",
       "      <td>Restaurant</td>\n",
       "      <td>11</td>\n",
       "      <td>WILSHIRE BLVD</td>\n",
       "    </tr>\n",
       "    <tr>\n",
       "      <th>9613</th>\n",
       "      <td>21399</td>\n",
       "      <td>SPREAD &amp; LOVE</td>\n",
       "      <td>818 WILSHIRE BLVD</td>\n",
       "      <td>False</td>\n",
       "      <td>Restaurant</td>\n",
       "      <td>10</td>\n",
       "      <td>WILSHIRE BLVD</td>\n",
       "    </tr>\n",
       "  </tbody>\n",
       "</table>\n",
       "<p>384 rows × 7 columns</p>\n",
       "</div>"
      ],
      "text/plain": [
       "         id       object_name                       address  chain  \\\n",
       "16    11802        HMS BOUNTY            3357 WILSHIRE BLVD  False   \n",
       "22    11808      CAMY'S GRILL            3339 WILSHIRE BLVD  False   \n",
       "132   11918        CORAL FISH            6357 WILSHIRE BLVD  False   \n",
       "172   11958   YOSHINOYA #1147  3959 WILSHIRE BLVD STE A3-A5   True   \n",
       "182   11968      SUBWAY #1763    3959 WILSHIRE BLVD STE B-7   True   \n",
       "...     ...               ...                           ...    ...   \n",
       "9463  21249   TWIST BAKE SHOP            4357 WILSHIRE BLVD  False   \n",
       "9500  21286          ONE CAFE     3250 WILSHIRE BLVD # 101A   True   \n",
       "9532  21318  ENERGY LIFE CAFE      5670 WILSHIRE BLVD # 160  False   \n",
       "9579  21365   THE FAMILY CAFE     12121 WILSHIRE BLVD # 110  False   \n",
       "9613  21399     SPREAD & LOVE             818 WILSHIRE BLVD  False   \n",
       "\n",
       "     object_type  number    street_name  \n",
       "16    Restaurant     147  WILSHIRE BLVD  \n",
       "22    Restaurant      39  WILSHIRE BLVD  \n",
       "132   Restaurant       7  WILSHIRE BLVD  \n",
       "172   Restaurant      35  WILSHIRE BLVD  \n",
       "182    Fast Food      17  WILSHIRE BLVD  \n",
       "...          ...     ...            ...  \n",
       "9463  Restaurant      44  WILSHIRE BLVD  \n",
       "9500  Restaurant       8  WILSHIRE BLVD  \n",
       "9532  Restaurant      44  WILSHIRE BLVD  \n",
       "9579  Restaurant      11  WILSHIRE BLVD  \n",
       "9613  Restaurant      10  WILSHIRE BLVD  \n",
       "\n",
       "[384 rows x 7 columns]"
      ]
     },
     "execution_count": 21,
     "metadata": {},
     "output_type": "execute_result"
    }
   ],
   "source": [
    "# menampilkan data yang sudah difilter\n",
    "wilshire"
   ]
  },
  {
   "cell_type": "code",
   "execution_count": 22,
   "metadata": {},
   "outputs": [
    {
     "data": {
      "text/plain": [
       "Text(0.5, 1.0, 'Seats Distribution Per Restaurant')"
      ]
     },
     "execution_count": 22,
     "metadata": {},
     "output_type": "execute_result"
    },
    {
     "data": {
      "image/png": "[encoded data removed]",
      "text/plain": [
       "<Figure size 432x288 with 1 Axes>"
      ]
     },
     "metadata": {
      "needs_background": "light"
     },
     "output_type": "display_data"
    }
   ],
   "source": [
    "# membuat grafik distribusi\n",
    "sns.distplot(wilshire['number'],bins=50)\n",
    "plt.xlabel(\"seats\")\n",
    "plt.ylabel(\"seats count\")\n",
    "plt.title(\"Seats Distribution Per Restaurant\")"
   ]
  },
  {
   "cell_type": "markdown",
   "metadata": {},
   "source": [
    "Dari grafik diatas, kita bisa melihat jika distribusi kursi pada jalan \"WILSHIRE BLVD\" lebih banyak berjumlah di angka 1 hingga 50 kursi per toko. Jumlah kursi ini sepertinya dimiliki oleh restoran kecil hingga menengah. Sedangkan jumlah kursi sisanya dengan angka diatas 50, dimiliki restoran dengan ruangan yang lebih luas atau lebih dari 1 lantai."
   ]
  },
  {
   "cell_type": "markdown",
   "metadata": {},
   "source": [
    "### Jalan Yang Hanya Memiliki 1 Usaha"
   ]
  },
  {
   "cell_type": "code",
   "execution_count": 23,
   "metadata": {
    "scrolled": false
   },
   "outputs": [
    {
     "data": {
      "text/html": [
       "<div>\n",
       "<style scoped>\n",
       "    .dataframe tbody tr th:only-of-type {\n",
       "        vertical-align: middle;\n",
       "    }\n",
       "\n",
       "    .dataframe tbody tr th {\n",
       "        vertical-align: top;\n",
       "    }\n",
       "\n",
       "    .dataframe thead th {\n",
       "        text-align: right;\n",
       "    }\n",
       "</style>\n",
       "<table border=\"1\" class=\"dataframe\">\n",
       "  <thead>\n",
       "    <tr style=\"text-align: right;\">\n",
       "      <th></th>\n",
       "      <th>object_type</th>\n",
       "      <th>object_count</th>\n",
       "    </tr>\n",
       "    <tr>\n",
       "      <th>street_name</th>\n",
       "      <th></th>\n",
       "      <th></th>\n",
       "    </tr>\n",
       "  </thead>\n",
       "  <tbody>\n",
       "    <tr>\n",
       "      <th>2ND ST</th>\n",
       "      <td>Cafe</td>\n",
       "      <td>1</td>\n",
       "    </tr>\n",
       "    <tr>\n",
       "      <th>4TH ST</th>\n",
       "      <td>Fast Food</td>\n",
       "      <td>1</td>\n",
       "    </tr>\n",
       "    <tr>\n",
       "      <th>5TH ST</th>\n",
       "      <td>Restaurant</td>\n",
       "      <td>1</td>\n",
       "    </tr>\n",
       "    <tr>\n",
       "      <th>ABBOT KINNEY</th>\n",
       "      <td>Restaurant</td>\n",
       "      <td>1</td>\n",
       "    </tr>\n",
       "    <tr>\n",
       "      <th>ACADEMY DR</th>\n",
       "      <td>Restaurant</td>\n",
       "      <td>1</td>\n",
       "    </tr>\n",
       "    <tr>\n",
       "      <th>...</th>\n",
       "      <td>...</td>\n",
       "      <td>...</td>\n",
       "    </tr>\n",
       "    <tr>\n",
       "      <th>WILSHIRE</th>\n",
       "      <td>Restaurant</td>\n",
       "      <td>1</td>\n",
       "    </tr>\n",
       "    <tr>\n",
       "      <th>YALE ST</th>\n",
       "      <td>Restaurant</td>\n",
       "      <td>1</td>\n",
       "    </tr>\n",
       "    <tr>\n",
       "      <th>Z00 DR</th>\n",
       "      <td>Restaurant</td>\n",
       "      <td>1</td>\n",
       "    </tr>\n",
       "    <tr>\n",
       "      <th>ZOO DR</th>\n",
       "      <td>Restaurant</td>\n",
       "      <td>1</td>\n",
       "    </tr>\n",
       "    <tr>\n",
       "      <th>hollywood BLVD</th>\n",
       "      <td>Restaurant</td>\n",
       "      <td>1</td>\n",
       "    </tr>\n",
       "  </tbody>\n",
       "</table>\n",
       "<p>334 rows × 2 columns</p>\n",
       "</div>"
      ],
      "text/plain": [
       "               object_type  object_count\n",
       "street_name                             \n",
       "2ND ST                Cafe             1\n",
       "4TH ST           Fast Food             1\n",
       "5TH ST          Restaurant             1\n",
       "ABBOT KINNEY    Restaurant             1\n",
       "ACADEMY DR      Restaurant             1\n",
       "...                    ...           ...\n",
       "WILSHIRE        Restaurant             1\n",
       "YALE ST         Restaurant             1\n",
       "Z00 DR          Restaurant             1\n",
       "ZOO DR          Restaurant             1\n",
       "hollywood BLVD  Restaurant             1\n",
       "\n",
       "[334 rows x 2 columns]"
      ]
     },
     "execution_count": 23,
     "metadata": {},
     "output_type": "execute_result"
    }
   ],
   "source": [
    "# memfilter jalan yang hanya memiliki 1 jenis usaha \n",
    "one_object_street = rest.groupby('street_name').agg({'object_type' : ['min','count']})\n",
    "one_object_street.columns = ['object_type','object_count']\n",
    "one_object_street[one_object_street['object_count'] == 1]"
   ]
  },
  {
   "cell_type": "markdown",
   "metadata": {},
   "source": [
    "Kita juga mendapatkan jalan-jalan mana saja yang hanya memiliki 1 jenis usaha. Ada lebih dari 300 jalan yang memiliki 1 usaha saja. Jumlah ini tentunya sedikit sekali jika dibandingkan dengan jalan lain yang memiliki beberapa jenis usaha."
   ]
  },
  {
   "cell_type": "markdown",
   "metadata": {},
   "source": [
    "## Kesimpulan"
   ]
  },
  {
   "cell_type": "markdown",
   "metadata": {},
   "source": [
    "**Berdasarkan analisis yang telah kita lakukan, berikut beberapa kesimpulan yang didapat:**\n",
    "- Tipe usaha bakery memiliki peluang keuntungan yang bagus karena modal yang dikeluarkan lebih sedikit dibandingkan usaha waralaba restoran dan dengan jumlah pekerjaan/pegawai yang lebih sedikit juga.\n",
    "- Rata-rata bakery shop di US menghasilkan profit sebesar 3 miliar dolar jika digabungkan, dan untuk bakery shop kecil dan menengah menghasilkan antara 325.000 hingga 450.000 dolar.\n",
    "- Walaupun jenis usaha bakery menempati urutan pertama dalam segi waralaba, kenyataannya jenis usaha restoran lebih populer.\n",
    "- Restoran memang menguntungkan namun memiliki low profit margins, butuh setidaknya sekitar 2 tahun untuk sebuah restoran baru dapat menghasilkan profit.\n",
    "- Profit restoran tidak luput dipengaruhi oleh lokasi, harga yang bersaing, dan biaya hidup yang dimiliki oleh para pengunjung.\n",
    "\n",
    "**Berikut rekomendasi jenis usaha berdasarkan kesimpulan:**\n",
    "- Jenis usaha restoran lebih digemari, untuk restoran yang baru merintis, kursi yang digunakan bisa dimulai dari 10 hingga 20 kursi, yang pembagiannya dapat disesuaikan dengan meja, misal per meja 2 kursi dan ada yang menggunakan 4 kursi.\n",
    "- Jika ingin mengembangkan usaha berbasis waralaba, jenis usaha bakery merupakan pilihan terbaik. Dengan modal dan cost yang lebih sedikit dari restoran, bakery dapat menghasilkan profit yang cukup besar."
   ]
  },
  {
   "cell_type": "markdown",
   "metadata": {},
   "source": [
    "## Presentasi"
   ]
  },
  {
   "cell_type": "markdown",
   "metadata": {},
   "source": [
    "(link presentasi)  :  <https://1drv.ms/b/s!AgrxGwNB6uxhglyhViq23J-p8ig7?e=tL1K7v>"
   ]
  }
 ],
 "metadata": {
  "kernelspec": {
   "display_name": "Python 3 (ipykernel)",
   "language": "python",
   "name": "python3"
  },
  "language_info": {
   "codemirror_mode": {
    "name": "ipython",
    "version": 3
   },
   "file_extension": ".py",
   "mimetype": "text/x-python",
   "name": "python",
   "nbconvert_exporter": "python",
   "pygments_lexer": "ipython3",
   "version": "3.9.5"
  },
  "toc": {
   "base_numbering": 1,
   "nav_menu": {},
   "number_sections": true,
   "sideBar": true,
   "skip_h1_title": true,
   "title_cell": "Table of Contents",
   "title_sidebar": "Contents",
   "toc_cell": false,
   "toc_position": {},
   "toc_section_display": true,
   "toc_window_display": false
  }
 },
 "nbformat": 4,
 "nbformat_minor": 2
}
